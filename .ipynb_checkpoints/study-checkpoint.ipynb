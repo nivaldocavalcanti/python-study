{
 "cells": [
  {
   "cell_type": "code",
   "execution_count": 2,
   "id": "101e9e5f",
   "metadata": {},
   "outputs": [
    {
     "data": {
      "text/plain": [
       "'/Users/niwa/Projects/Python/pyhton_course'"
      ]
     },
     "execution_count": 2,
     "metadata": {},
     "output_type": "execute_result"
    }
   ],
   "source": [
    "#Importando biblioteca\n",
    "import os \n",
    "os.getcwd()"
   ]
  },
  {
   "cell_type": "code",
   "execution_count": 4,
   "id": "04dde8ea",
   "metadata": {},
   "outputs": [
    {
     "data": {
      "text/plain": [
       "'/Users/niwa/Projects/Python/pyhton_course'"
      ]
     },
     "execution_count": 4,
     "metadata": {},
     "output_type": "execute_result"
    }
   ],
   "source": [
    "#Importando uma função da biblioteca\n",
    "from os import getcwd \n",
    "getcwd()"
   ]
  },
  {
   "cell_type": "code",
   "execution_count": 5,
   "id": "4d62ffc5",
   "metadata": {},
   "outputs": [
    {
     "data": {
      "text/plain": [
       "'Darwin-19.3.0-x86_64-i386-64bit'"
      ]
     },
     "execution_count": 5,
     "metadata": {},
     "output_type": "execute_result"
    }
   ],
   "source": [
    "#Renomeando uma biblioteca importada\n",
    "import platform as pf \n",
    "pf.platform()"
   ]
  },
  {
   "cell_type": "code",
   "execution_count": 9,
   "id": "ee38f643",
   "metadata": {},
   "outputs": [
    {
     "name": "stdout",
     "output_type": "stream",
     "text": [
      "a + b = 3\n",
      "b + c = 5\n",
      "a + c = 4\n"
     ]
    }
   ],
   "source": [
    "#Escopo de variáveis\n",
    "a = 1 #global\n",
    "def func():\n",
    "    #da função\n",
    "    b = 2 \n",
    "    print(\"a + b =\", a + b)\n",
    "    print(\"b + c =\", b + c)\n",
    "    \n",
    "func()\n",
    "c = 3 #global\n",
    "print(\"a + c =\", a + c)\n",
    "#A variável b não faz parte do escopo global\n",
    "#print(b) #NameError: name 'b' is not defined"
   ]
  },
  {
   "cell_type": "code",
   "execution_count": 14,
   "id": "df19905d",
   "metadata": {},
   "outputs": [
    {
     "name": "stdout",
     "output_type": "stream",
     "text": [
      "Digite algo: algo\n",
      "algo\n"
     ]
    }
   ],
   "source": [
    "#Recebendo valores da entrada\n",
    "s = input('Digite algo: ')\n",
    "print(s)"
   ]
  },
  {
   "cell_type": "code",
   "execution_count": 15,
   "id": "96e04eea",
   "metadata": {},
   "outputs": [
    {
     "name": "stdout",
     "output_type": "stream",
     "text": [
      "<class 'int'>\n",
      "<class 'float'>\n",
      "<class 'complex'>\n",
      "(11+6j)\n",
      "(1+6j)\n",
      "(10+12j)\n",
      "(2.5+3j)\n"
     ]
    }
   ],
   "source": [
    "#Declarando números em python\n",
    "a = 1 #Inteiro\n",
    "print(type(a))\n",
    "a = 5.5 #Flutuante\n",
    "print(type(a))\n",
    "a = 5 + 6j #Complexo (equação: inteiro + variavel)\n",
    "print(type(a))\n",
    "print(a + 6) #A soma se aplica apenas ao inteiro\n",
    "print(a - 4) #A subtração se aplica apenas ao inteiro\n",
    "print(a * 2) #A multiplicacao se aplica a ambas as partes\n",
    "print(a / 2) #A divisao se aplica a ambas as partes"
   ]
  },
  {
   "cell_type": "code",
   "execution_count": 27,
   "id": "a1924dc1",
   "metadata": {},
   "outputs": [
    {
     "name": "stdout",
     "output_type": "stream",
     "text": [
      "python é massa\n",
      "python é essencial\n",
      "python é uma\n",
      "linguagem de programação\n",
      "que permite atribuir strings\n",
      "com quebras de linha usando \n",
      "tres aspas duplas\n",
      "\n",
      "escapando as aspas duplas \"\n",
      "escapando o próprio contra barra \\\n",
      "quebrando uma \n",
      "linha\n",
      "imprimindo uma \ttabulação\n",
      "imprimindo um \r",
      "retorno ou backspace\n",
      "\n",
      "C:\\Windows\\é\\da\\\"Microsoft\"\n",
      "\n",
      "P\n",
      "y\n",
      "n\n",
      "Pyt\n",
      "Pto\n",
      "\n",
      "Olá Python!\n",
      "Olá Olá Python!\n",
      "['Olá', 'Olá', 'Python!']\n",
      "Monty Python!\n",
      "PYTHON!\n",
      "python!\n",
      "Olá--Olá--Python!\n",
      "Estou estudando Python de 1.5 a 2 horas por dia\n"
     ]
    }
   ],
   "source": [
    "#Strings\n",
    "s1 = \"python é massa\" #Atribuição com aspas duplas\n",
    "s2 = 'python é essencial' #Atribuição com aspas simples\n",
    "#Atribuição com tres aspas duplas e quebras de linhas\n",
    "s3 = \"\"\"python é uma\n",
    "linguagem de programação\n",
    "que permite atribuir strings\n",
    "com quebras de linha usando \n",
    "tres aspas duplas\"\"\"\n",
    "\n",
    "print(s1)\n",
    "print(s2)\n",
    "print(s3)\n",
    "print()\n",
    "\n",
    "#Escapando caracteres usando o contra barra\n",
    "print(\"escapando as aspas duplas \\\"\")\n",
    "print(\"escapando o próprio contra barra \\\\\")\n",
    "#Especiais\n",
    "print(\"quebrando uma \\nlinha\")\n",
    "print(\"imprimindo uma \\ttabulação\")\n",
    "print(\"imprimindo um \\rretorno ou backspace\")\n",
    "print()\n",
    "\n",
    "#Raw (nativa, crua, como está) - preceder com R maiúsculo ou minúsculo\n",
    "print(r'C:\\Windows\\é\\da\\\"Microsoft\"') #Imprime do jeito que está sem executar escapes\n",
    "print()\n",
    "\n",
    "#Índices\n",
    "s = \"Python\"\n",
    "print(s[0])\n",
    "print(s[1])\n",
    "print(s[-1])\n",
    "\n",
    "#Porções, partes\n",
    "print(s[0:3]) #inicio:comprimento\n",
    "print(s[0:5:2]) #inicio:comprimento:incremento\n",
    "print()\n",
    "\n",
    "#Erros\n",
    "#Índice inexistente\n",
    "#print(s[99])  #IndexError: string index out of range\n",
    "#Índice não inteiro\n",
    "#print(s[1.0]) #TypeError: string indices must be integers\n",
    "#Atribuição de valor não é suportado em posições de string\n",
    "#s[0] = \"p\"    #TypeError: 'str' object does not support item assignment\n",
    "\n",
    "#Operadores\n",
    "a = \"Olá \"\n",
    "b = \"Python!\"\n",
    "c = a + b #Concatenação\n",
    "print(c)\n",
    "d = a * 2 + b #Repetição\n",
    "print(d)\n",
    "e = d.split(' ') #Separação\n",
    "print(e)\n",
    "print(b.replace('P','Monty P')) #Substituição\n",
    "print(b.upper()) #Caixa alta\n",
    "print(b.lower()) #Caixa baixa\n",
    "print(\"--\".join(e)) #Junção com caracteres de união\n",
    "#Parametrização: %s - string, %d - inteiro, %.1f - float com uma casa decimal, %.2f - float com duas casas decimais \n",
    "print(\"Estou estudando %s de %.1f a %d horas por dia\" %('Python',1.5,2)) \n",
    "\n",
    "#Erros\n",
    "#Operadores não suportados em strings\n",
    "#f = a / 2 + b #TypeError: unsupported operand type(s) for /: 'str' and 'int'\n",
    "#g = a - b     #TypeError: unsupported operand type(s) for -: 'str' and 'str'"
   ]
  },
  {
   "cell_type": "code",
   "execution_count": 35,
   "id": "1933b635",
   "metadata": {},
   "outputs": [
    {
     "name": "stdout",
     "output_type": "stream",
     "text": [
      "[1, 2, 3, 'quatro', 'cinco', 'cinco-seis']\n",
      "Porções: 1 [1, 2] [1, 3]\n",
      "[1, 0, 3, 4, 5, 6]\n",
      "[1, 2, 3, 4, 5, 6]\n",
      "[1, 2, 3, 1, 2, 3, 4, 5, 6]\n",
      "['pedra', 'papel', 'tesoura', 'spock']\n",
      "['papel', 'tesoura', 'spock']\n",
      "['papel', 'tesoura', 'lagarto', 'spock']\n",
      "['pedra', 'papel', 'tesoura', 'lagarto', 'spock']\n",
      "spock\n",
      "['pedra', 'papel', 'tesoura', 'lagarto']\n",
      "0 pedra\n",
      "1 papel\n",
      "2 tesoura\n",
      "3 lagarto\n",
      "['lagarto', 'papel', 'pedra', 'tesoura']\n",
      "['tesoura', 'pedra', 'papel', 'lagarto']\n",
      "['tesouratesoura', 'pedrapedra', 'papelpapel', 'lagartolagarto']\n",
      "2\n",
      "[[1, 2], [5, 6]]\n"
     ]
    }
   ],
   "source": [
    "#Listas\n",
    "a = [1,2,3,\"quatro\",'cinco',\"\"\"cinco-seis\"\"\"]\n",
    "print(a)\n",
    "a = [1,2,3,4,5,6]\n",
    "\n",
    "#Porções de Listas\n",
    "print(\"Porções:\",a[0],a[0:2],a[0:3:2]) #Da mesma forma que as strings\n",
    "a[1] = 0 #Uma posição de lista pode ser alterada\n",
    "print(a)\n",
    "\n",
    "#Operadores de Listas\n",
    "a = [1,2,3]\n",
    "b = [4,5,6]\n",
    "print(a+b)\n",
    "print(a*2+b)\n",
    "\n",
    "#Métodos de Listas\n",
    "a = ['pedra','papel','tesoura']\n",
    "\n",
    "a.append('spock') #Inclusão no final\n",
    "print(a)\n",
    "\n",
    "a.remove('pedra') #Remoção específica\n",
    "print(a)\n",
    "\n",
    "a.insert(2,'lagarto') #Inclusão em uma posição específica\n",
    "print(a)\n",
    "a.insert(0,'pedra') #Inclusão em uma posição específica\n",
    "print(a)\n",
    "\n",
    "print(a.pop()) #Remoção e retorno do último elemento\n",
    "print(a)\n",
    "\n",
    "#Enumeração de índices e valores, varredura com laço\n",
    "for i, x in enumerate(a):\n",
    "    print(i,x)\n",
    "\n",
    "a.sort() #Ordenação\n",
    "print(a)\n",
    "\n",
    "a.reverse() #Inversão\n",
    "print(a)\n",
    "\n",
    "#Criando uma nova lista a partir de outra lista, usando operador (não é obrigatório)\n",
    "b = [x * 2 for x in a]\n",
    "print(b)\n",
    "\n",
    "#Porções de uma Lista bi-dimensional\n",
    "c = [[1,2],[3,4],[5,6]]\n",
    "print(c[0][1]) #Posição 0 da lista, e posição 1 da sublista\n",
    "print(c[::2]) #Da mesma forma que as strings, neste exemplo apenas o incremento foi passado"
   ]
  },
  {
   "cell_type": "code",
   "execution_count": 55,
   "id": "1ffaf444",
   "metadata": {},
   "outputs": [
    {
     "name": "stdout",
     "output_type": "stream",
     "text": [
      "<class 'tuple'>\n",
      "(1, [3, 4], 'python')\n",
      "1\n",
      "4\n",
      "<class 'int'>\n",
      "<class 'tuple'>\n"
     ]
    }
   ],
   "source": [
    "#Tuples - Immutable sequences, that cannot be changed\n",
    "t = (1,[3,4],'python')\n",
    "print(type(t))\n",
    "print(t)\n",
    "\n",
    "print(t[0])\n",
    "print(t[1][1])\n",
    "\n",
    "t = (5)\n",
    "print(type(t))\n",
    "t = (5,)\n",
    "print(type(t))\n",
    "\n",
    "#t[0] = 4 #TypeError: 'tuple' object does not support item assignment\n"
   ]
  }
 ],
 "metadata": {
  "kernelspec": {
   "display_name": "Python 3",
   "language": "python",
   "name": "python3"
  },
  "language_info": {
   "codemirror_mode": {
    "name": "ipython",
    "version": 3
   },
   "file_extension": ".py",
   "mimetype": "text/x-python",
   "name": "python",
   "nbconvert_exporter": "python",
   "pygments_lexer": "ipython3",
   "version": "3.7.10"
  }
 },
 "nbformat": 4,
 "nbformat_minor": 5
}
